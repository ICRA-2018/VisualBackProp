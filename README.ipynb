{
 "cells": [
  {
   "cell_type": "markdown",
   "metadata": {},
   "source": [
    "# VisualBackProp\n",
    "VisualBackProp - visualization method for convolutional neural networks\n",
    "\n",
    "# Description\n",
    "Detailed description of the VisualBackProp can be found in:\n",
    "https://arxiv.org/abs/1611.05418\n",
    "\n",
    "Content:\n",
    "\n",
    "* inputImages - folder with input images\n",
    "* outputImages - folder for output images\n",
    "* vis.lua - implementation of VisualBackProp \n",
    "* run.lua - loads images, runs visualization method, saves images\n",
    "* model.t7b - model trained to predict steering wheel angle\n",
    "\n",
    "# Usage\n",
    "`mkdir outputImages`\n",
    "\n",
    "`qlua run.lua`\n",
    "\n",
    "Script generates set of 3 images for each input image. Each set contain:\n",
    "\n",
    "* Input image with visualization mask overlaid in red\n",
    "* Averaged feature maps\n",
    "* Intermediate masks"
   ]
  }
 ],

 "metadata": {
  "kernelspec": {
   "display_name": "Bash",
   "language": "bash",
   "name": "bash"
  },
  "language_info": {
   "codemirror_mode": "shell",
   "file_extension": ".sh",
   "mimetype": "text/x-sh",
   "name": "bash"
  }
 },
 "nbformat": 4,
 "nbformat_minor": 2
}
