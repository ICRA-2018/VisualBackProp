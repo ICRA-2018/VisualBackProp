{
 "cells": [
  {
   "cell_type": "markdown",
   "metadata": {},
   "source": [
    "# VisualBackProp\n",
    "<a href=\"#roslab-run\"><img src=\"https://img.shields.io/badge/ROSLab-run-brightgreen.svg\"></a>\n",
    "\n",
    "VisualBackProp - visualization method for convolutional neural networks\n",
    "\n",
    "# Description\n",
    "Detailed description of the VisualBackProp can be found in:\n",
    "https://arxiv.org/abs/1611.05418\n",
    "\n",
    "Content:\n",
    "\n",
    "* inputImages - folder with input images\n",
    "* outputImages - folder for output images\n",
    "* vis.lua - implementation of VisualBackProp \n",
    "* run.lua - loads images, runs visualization method, saves images\n",
    "* model.t7b - model trained to predict steering wheel angle\n",
    "\n",
    "# Usage\n",
    "`mkdir outputImages`\n",
    "\n",
    "`qlua run.lua`\n",
    "\n",
    "Script generates set of 3 images for each input image. Each set contain:\n",
    "\n",
    "* Input image with visualization mask overlaid in red\n",
    "* Averaged feature maps\n",
    "* Intermediate masks\n",
    "\n",
    "# ROSLab Run\n",
    "\n",
    "## Prerequisites:\n",
    "* [Docker](https://www.docker.com/)\n",
    "* [nvidia-docker](https://github.com/nvidia/nvidia-docker/wiki/Installation-(version-2.0))\n",
    "* Tested on Ubuntu Linux 16.04, Docker version 18.06.1-ce, NVIDIA Driver version 410.48.\n",
    "\n",
    "## 1. Clone the repository and build ROSLab image:"
   ]
  },
  {
   "cell_type": "code",
   "execution_count": null,
   "metadata": {},
   "outputs": [],
   "source": [
    "git clone https://github.com/ICRA-2018/VisualBackProp.git\n",
    "cd VisualBackProp\n",
    "./roslab_build"
   ]
  },
  {
   "cell_type": "markdown",
   "metadata": {},
   "source": [
    "## 2. Launch ROSLab image:"
   ]
  },
  {
   "cell_type": "code",
   "execution_count": null,
   "metadata": {},
   "outputs": [],
   "source": [
    "./roslab_run"
   ]
  },
  {
   "cell_type": "markdown",
   "metadata": {},
   "source": [
    "## 3. Open JupyterLab in your browser:\n",
    "[http://localhost:8888/lab/tree/README.ipynb](http://localhost:8888/lab/tree/README.ipynb)\n",
    "\n",
    "## 4. Run in JupyterLab:"
   ]
  },
  {
   "cell_type": "code",
   "execution_count": null,
   "metadata": {},
   "outputs": [],
   "source": [
    "mkdir outputImages"
   ]
  },
  {
   "cell_type": "code",
   "execution_count": null,
   "metadata": {},
   "outputs": [],
   "source": [
    "qlua run.lua"
   ]
  }
 ],

 "metadata": {
  "kernelspec": {
   "display_name": "Bash",
   "language": "bash",
   "name": "bash"
  },
  "language_info": {
   "codemirror_mode": "shell",
   "file_extension": ".sh",
   "mimetype": "text/x-sh",
   "name": "bash"
  }
 },
 "nbformat": 4,
 "nbformat_minor": 2
}
